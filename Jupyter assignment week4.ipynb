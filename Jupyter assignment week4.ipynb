{
  "metadata": {
    "language_info": {
      "codemirror_mode": {
        "name": "python",
        "version": 3
      },
      "file_extension": ".py",
      "mimetype": "text/x-python",
      "name": "python",
      "nbconvert_exporter": "python",
      "pygments_lexer": "ipython3",
      "version": "3.8"
    },
    "kernelspec": {
      "name": "python",
      "display_name": "Pyolite",
      "language": "python"
    }
  },
  "nbformat_minor": 4,
  "nbformat": 4,
  "cells": [
    {
      "cell_type": "markdown",
      "source": "# My Jupyter Notebook on IBM Watson Studio",
      "metadata": {
        "tags": []
      }
    },
    {
      "cell_type": "markdown",
      "source": "**Prakash**\n\nMy current occupation is 'Senior Business analyst - Petrochemicals'\n",
      "metadata": {}
    },
    {
      "cell_type": "markdown",
      "source": "_I am interested in data science as my strengths lie in Statistics/programming/data handling_ ",
      "metadata": {}
    },
    {
      "cell_type": "markdown",
      "source": "### Print sum of first 10 numbers ###",
      "metadata": {}
    },
    {
      "cell_type": "code",
      "source": "print(1+2+3+4+5+6+7+8+9+10)",
      "metadata": {
        "trusted": true
      },
      "execution_count": 1,
      "outputs": [
        {
          "name": "stdout",
          "text": "55\n",
          "output_type": "stream"
        }
      ]
    },
    {
      "cell_type": "markdown",
      "source": "### Horizontal line as separator\nThis is above the horizontal line\n***\nThis is below the horizontal line\n\n- Bulleted item 1\n- Bulleted item 2\n- Bulleted item 3\n\n1. Numbered item\n1. Numbered item\n",
      "metadata": {}
    }
  ]
}